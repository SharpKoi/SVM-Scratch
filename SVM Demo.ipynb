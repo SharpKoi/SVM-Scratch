{
 "cells": [
  {
   "cell_type": "markdown",
   "metadata": {},
   "source": [
    "# Demo for SVM and SVC from Scratch"
   ]
  },
  {
   "cell_type": "markdown",
   "metadata": {},
   "source": [
    "## Setup Environment"
   ]
  },
  {
   "cell_type": "code",
   "execution_count": 1,
   "metadata": {},
   "outputs": [],
   "source": [
    "import numpy as np\n",
    "from sklearn.preprocessing import PolynomialFeatures\n",
    "import matplotlib.pyplot as plt\n",
    "from SVM import SVM, SVC"
   ]
  },
  {
   "cell_type": "code",
   "execution_count": 2,
   "metadata": {
    "colab": {
     "base_uri": "https://localhost:8080/",
     "height": 483
    },
    "executionInfo": {
     "elapsed": 10,
     "status": "ok",
     "timestamp": 1635356170598,
     "user": {
      "displayName": "李俞鋒",
      "photoUrl": "https://lh3.googleusercontent.com/a/default-user=s64",
      "userId": "09212386763051698812"
     },
     "user_tz": -480
    },
    "id": "I-9JUzJXzTLw",
    "outputId": "326c1b88-f86e-46db-8992-a6bbad77b797"
   },
   "outputs": [],
   "source": [
    "def poly_feats(input_values, degree):\n",
    "    if degree==1:\n",
    "        if input_values[0] != 1:\n",
    "            result = input_values.insert(0,1)\n",
    "        result=input_values\n",
    "        return np.array(result)\n",
    "    elif degree > 1:\n",
    "        new_result=[]\n",
    "        result = poly_feats(input_values, degree-1)\n",
    "        new_result.extend(result)\n",
    "        for item in input_values:\n",
    "            for p_item in result:\n",
    "                res=item*p_item\n",
    "                if (res not in result) and (res not in new_result):\n",
    "                    new_result.append(res)\n",
    "        return np.array(new_result)"
   ]
  },
  {
   "cell_type": "markdown",
   "metadata": {},
   "source": [
    "## Linear SVM"
   ]
  },
  {
   "cell_type": "code",
   "execution_count": 3,
   "metadata": {},
   "outputs": [],
   "source": [
    "## Generating a binary data set which can be separated by a hyperplane\n",
    "\n",
    "# n= the number of data\n",
    "n=20\n",
    "# n1 = the size of the first cluster\n",
    "n1=0\n",
    "# d = dim\n",
    "d=2\n",
    "while n1<n/3 or n1>2*n/3:\n",
    "    X=np.random.rand(n,d)\n",
    "    # hyperplane: omega.x + beta =0\n",
    "    omega = np.random.randn(d)\n",
    "    beta= np.random.randn(1)[0]\n",
    "    Y=np.zeros(n) \n",
    "    for i in range(n):\n",
    "        Y[i]=np.dot(X[i],omega)+beta\n",
    "        Y[i]=Y[i]/abs(Y[i])\n",
    "    n1=len(X[Y>0])"
   ]
  },
  {
   "cell_type": "code",
   "execution_count": 4,
   "metadata": {
    "colab": {
     "base_uri": "https://localhost:8080/"
    },
    "executionInfo": {
     "elapsed": 8,
     "status": "ok",
     "timestamp": 1635356170599,
     "user": {
      "displayName": "李俞鋒",
      "photoUrl": "https://lh3.googleusercontent.com/a/default-user=s64",
      "userId": "09212386763051698812"
     },
     "user_tz": -480
    },
    "id": "vF-SeCAzHHh7",
    "outputId": "292413e3-9ab9-4440-be31-50102e14ad70"
   },
   "outputs": [
    {
     "name": "stdout",
     "output_type": "stream",
     "text": [
      "     pcost       dcost       gap    pres   dres\n",
      " 0: -7.3345e+00 -1.9721e+01  1e+01  3e-15  2e+00\n",
      " 1: -1.1184e+01 -1.6294e+01  5e+00  2e-15  1e+00\n",
      " 2: -7.5142e+01 -8.2657e+01  8e+00  2e-14  9e-01\n",
      " 3: -1.7671e+02 -2.0967e+02  3e+01  4e-14  9e-01\n",
      " 4: -3.3816e+02 -4.3463e+02  1e+02  6e-14  6e-01\n",
      " 5: -4.0213e+02 -4.3426e+02  3e+01  6e-14  8e-02\n",
      " 6: -4.0419e+02 -4.0460e+02  4e-01  1e-13  1e-03\n",
      " 7: -4.0421e+02 -4.0421e+02  4e-03  6e-14  1e-05\n",
      " 8: -4.0421e+02 -4.0421e+02  4e-05  8e-14  1e-07\n",
      " 9: -4.0421e+02 -4.0421e+02  4e-07  1e-13  1e-09\n",
      "Optimal solution found.\n",
      "\n",
      "Alpha: [8.03419856348631e-11, 1.9456288192750896e-10, 20.986728796633663, 6.079874503007283e-11, 1.3263589133468315e-10, 3.510718225007286e-11, 5.56069393628682e-11, 3.451926177409684e-10, 3.993203349744138e-11, 1.1488529793882137e-11, 9.515841265603441e-11, 5.472995133141311e-14, 1.0070719083630881e-11, 383.2191284667233, 1.8984279638805713e-10, 7.177080619585108e-14, 5.4124862284544985e-11, 404.20585726251795, 1.6796756502776207e-10, 6.825688883504006e-11]\n",
      "Weight: [-27.107607249596107, 8.578423125817187]\n",
      "Bias: 10.52558416590788\n"
     ]
    }
   ],
   "source": [
    "lsvm = SVM()\n",
    "lsvm.fit(X, Y)\n",
    "\n",
    "# report\n",
    "print()\n",
    "print(f'Alpha: {lsvm.opt_coef.tolist()}')\n",
    "print(f'Weight: {lsvm.weight.tolist()}')\n",
    "print(f'Bias: {lsvm.bias}')"
   ]
  },
  {
   "cell_type": "code",
   "execution_count": 5,
   "metadata": {
    "colab": {
     "base_uri": "https://localhost:8080/",
     "height": 483
    },
    "executionInfo": {
     "elapsed": 848,
     "status": "ok",
     "timestamp": 1635356171441,
     "user": {
      "displayName": "李俞鋒",
      "photoUrl": "https://lh3.googleusercontent.com/a/default-user=s64",
      "userId": "09212386763051698812"
     },
     "user_tz": -480
    },
    "id": "BMT6-nzVHjri",
    "outputId": "b4248f5a-910a-4d32-86bc-73abef78b3d8"
   },
   "outputs": [
    {
     "data": {
      "image/png": "[encoded data removed]",
      "text/plain": [
       "<Figure size 1152x864 with 1 Axes>"
      ]
     },
     "metadata": {
      "needs_background": "light"
     },
     "output_type": "display_data"
    }
   ],
   "source": [
    "resolution = 50\n",
    "dx = np.linspace(0, 1, resolution)\n",
    "dy = np.linspace(0, 1, resolution)\n",
    "dx, dy = np.meshgrid(dx, dy)\n",
    "grid_x = np.c_[dx.flatten(), dy.flatten()]\n",
    "z = np.array([lsvm.hypothesis(x) for x in grid_x])\n",
    "z = z.reshape(dx.shape)\n",
    "\n",
    "plt.figure(figsize=(16, 12))\n",
    "plt.contourf(dx, dy, z, [-10000, -1, 0, 1, 10000], colors=['skyblue', '#009dc4', 'sandybrown', 'bisque'])\n",
    "plt.scatter(X[Y >= 0, 0], X[Y >= 0, 1], s=150, color='r')\n",
    "plt.scatter(X[Y < 0, 0], X[Y < 0, 1], s=150, color='b')\n",
    "plt.show()"
   ]
  },
  {
   "cell_type": "markdown",
   "metadata": {
    "id": "_mlzKE_kTg4k"
   },
   "source": [
    "## Linear SVM With Polynomial Feature Transformation "
   ]
  },
  {
   "cell_type": "code",
   "execution_count": 6,
   "metadata": {
    "colab": {
     "base_uri": "https://localhost:8080/",
     "height": 483
    },
    "executionInfo": {
     "elapsed": 14,
     "status": "ok",
     "timestamp": 1635356171442,
     "user": {
      "displayName": "李俞鋒",
      "photoUrl": "https://lh3.googleusercontent.com/a/default-user=s64",
      "userId": "09212386763051698812"
     },
     "user_tz": -480
    },
    "id": "HKVlk9gEr3vv",
    "outputId": "f11ea487-9990-49da-ef82-30c90938dcce"
   },
   "outputs": [],
   "source": [
    "## Generating a binary data set in R^2 which can be separated by a quadratic curve\n",
    "\n",
    "import matplotlib.pyplot as plt\n",
    "import numpy as np\n",
    "# n= the number of data\n",
    "n=30\n",
    "# n1 = the size of the first cluster\n",
    "n1=0\n",
    "d=2\n",
    "\n",
    "def pre_phi(x):\n",
    "  return np.concatenate(([x[1]*x[0]],5*x*x,3*x))\n",
    "\n",
    "while n1<n/3 or n1>2*n/3:\n",
    "  X=2*np.random.rand(n,d)-1\n",
    "  # hyperplane: alpha.x + beta =0\n",
    "  pre_phi_X = np.array([ pre_phi(i) for i in X])\n",
    "  pre_omega = np.random.rand(len(pre_phi_X[0]))-.5\n",
    "  pre_beta= 5*(np.random.randn(1)[0]-.5)\n",
    "  Y=np.zeros(n)\n",
    "  for i in range(n):\n",
    "    Y[i]=np.dot(pre_phi_X[i],pre_omega)+pre_beta\n",
    "    Y[i]=Y[i]/abs(Y[i])\n",
    "  n1=len(X[Y<0])\n",
    "# X = X/2+1"
   ]
  },
  {
   "cell_type": "code",
   "execution_count": 7,
   "metadata": {
    "colab": {
     "base_uri": "https://localhost:8080/"
    },
    "executionInfo": {
     "elapsed": 13,
     "status": "ok",
     "timestamp": 1635356171443,
     "user": {
      "displayName": "李俞鋒",
      "photoUrl": "https://lh3.googleusercontent.com/a/default-user=s64",
      "userId": "09212386763051698812"
     },
     "user_tz": -480
    },
    "id": "BPGGEt0hT34S",
    "outputId": "981518e7-0605-4835-e6b6-524422c81ea1"
   },
   "outputs": [
    {
     "name": "stdout",
     "output_type": "stream",
     "text": [
      "     pcost       dcost       gap    pres   dres\n",
      " 0: -6.3117e+00 -1.4738e+01  7e+01  8e+00  2e+00\n",
      " 1: -7.8302e+00 -1.4852e+01  2e+01  2e+00  4e-01\n",
      " 2: -1.2953e+01 -1.5476e+01  4e+00  2e-01  5e-02\n",
      " 3: -1.3892e+01 -1.4135e+01  3e-01  1e-02  3e-03\n",
      " 4: -1.4050e+01 -1.4059e+01  1e-02  2e-04  4e-05\n",
      " 5: -1.4056e+01 -1.4056e+01  5e-04  2e-06  4e-07\n",
      " 6: -1.4056e+01 -1.4056e+01  3e-05  6e-09  1e-09\n",
      " 7: -1.4056e+01 -1.4056e+01  6e-07  5e-11  1e-11\n",
      "Optimal solution found.\n",
      "\n",
      "Alpha: [1.8396607357473636e-09, 4.284629520703165e-10, 0.01450505946726143, 5.673995156721224e-10, 6.301571095647944e-10, 2.5819228658729147e-10, 5.160664429619899e-10, 7.654287843831957e-10, 7.842568238335503e-09, 4.463840443864767e-10, 1.7158332185825108e-09, 2.1336394324700064e-10, 4.411000119987477e-09, 5.821778190105063, 1.5596047338768438e-09, 5.741040480925701e-10, 5.243619769587971e-10, 1.3967925682780866e-09, 3.7050889314001355e-10, 10.014916299296887, 4.707099797946701e-10, 1.4082766556876893e-09, 4.625996922665734e-10, 3.7355592060741317e-10, 1.6495285826658121e-09, 1.225787855465963e-09, 6.215207125748913e-10, 4.395692908684466e-10, 4.026444156335279, 8.234087331201119]\n",
      "Weight: [0.0, -1.6071663824456672, 3.0867645942034336, 2.531581680310442, 0.9298775885180735, 2.9541587810140952]\n",
      "Bias: -2.022700497037542\n"
     ]
    }
   ],
   "source": [
    "x_mapping = PolynomialFeatures(degree=2).fit(X).transform(X)\n",
    "svm = SVM()\n",
    "svm.fit(x_mapping, Y)\n",
    "\n",
    "# report\n",
    "print()\n",
    "print(f'Alpha: {svm.opt_coef.tolist()}')\n",
    "print(f'Weight: {svm.weight.tolist()}')\n",
    "print(f'Bias: {svm.bias}')"
   ]
  },
  {
   "cell_type": "markdown",
   "metadata": {
    "id": "p0CfYeLgr28Z"
   },
   "source": [
    "Remark: You can use the contour plot to represent your result, see the following example"
   ]
  },
  {
   "cell_type": "code",
   "execution_count": 8,
   "metadata": {
    "colab": {
     "base_uri": "https://localhost:8080/",
     "height": 704
    },
    "executionInfo": {
     "elapsed": 599,
     "status": "ok",
     "timestamp": 1635356172033,
     "user": {
      "displayName": "李俞鋒",
      "photoUrl": "https://lh3.googleusercontent.com/a/default-user=s64",
      "userId": "09212386763051698812"
     },
     "user_tz": -480
    },
    "id": "p_P9qjDJUnFE",
    "outputId": "c50fd77b-24cd-48c4-f825-bbde97cb3086"
   },
   "outputs": [
    {
     "data": {
      "image/png": "[encoded data removed]",
      "text/plain": [
       "<Figure size 1152x864 with 1 Axes>"
      ]
     },
     "metadata": {
      "needs_background": "light"
     },
     "output_type": "display_data"
    }
   ],
   "source": [
    "# contour plot\n",
    "# svm.plot()\n",
    "\n",
    "resolution = 50\n",
    "dx = np.linspace(-1, 1, resolution)\n",
    "dy = np.linspace(-1, 1, resolution)\n",
    "dx, dy = np.meshgrid(dx, dy)\n",
    "grid_x = np.c_[dx.flatten(), dy.flatten()]\n",
    "grid_x_mapping = PolynomialFeatures(degree=2).fit(grid_x).transform(grid_x)\n",
    "z=np.array([svm.hypothesis(x) for x in grid_x_mapping])\n",
    "z=z.reshape(dx.shape)\n",
    "plt.figure(figsize=(16,12))\n",
    "## fill the area between level curves h(x)=-10000,-1,0,1,10000 with the given color\n",
    "plt.contourf(dx, dy, z, [-10000,-1,0,1,10000],colors=['skyblue','#009dc4','sandybrown','bisque'])\n",
    "plt.scatter(X[Y>=0,0],X[Y>=0,1],s=150,color='r')\n",
    "plt.scatter(X[Y<0,0],X[Y<0,1],s=150,color='b')\n",
    "plt.show()\n"
   ]
  },
  {
   "cell_type": "markdown",
   "metadata": {
    "id": "FJMA4o1IWpcZ"
   },
   "source": [
    "## Kernel SVC With Gaussian Kernel"
   ]
  },
  {
   "cell_type": "code",
   "execution_count": 9,
   "metadata": {
    "colab": {
     "base_uri": "https://localhost:8080/"
    },
    "executionInfo": {
     "elapsed": 6,
     "status": "ok",
     "timestamp": 1635356172035,
     "user": {
      "displayName": "李俞鋒",
      "photoUrl": "https://lh3.googleusercontent.com/a/default-user=s64",
      "userId": "09212386763051698812"
     },
     "user_tz": -480
    },
    "id": "ai0DDrSeQfL5",
    "outputId": "248a64eb-e2a4-4086-c397-61fea84d7c56",
    "scrolled": true
   },
   "outputs": [
    {
     "name": "stdout",
     "output_type": "stream",
     "text": [
      "     pcost       dcost       gap    pres   dres\n",
      " 0: -8.1565e+00 -4.7427e+01  4e+01  7e-16  4e-16\n",
      " 1: -8.9012e+00 -1.2207e+01  3e+00  4e-16  5e-16\n",
      " 2: -9.9862e+00 -1.0582e+01  6e-01  2e-16  4e-16\n",
      " 3: -1.0228e+01 -1.0285e+01  6e-02  2e-16  3e-16\n",
      " 4: -1.0250e+01 -1.0255e+01  6e-03  2e-16  3e-16\n",
      " 5: -1.0252e+01 -1.0252e+01  2e-04  3e-16  4e-16\n",
      " 6: -1.0252e+01 -1.0252e+01  1e-05  2e-16  3e-16\n",
      " 7: -1.0252e+01 -1.0252e+01  1e-06  2e-16  3e-16\n",
      "Optimal solution found.\n",
      "\n",
      "Alpha: [0.9985341480465569, 2.539425292332021e-09, 0.9999999925570109, 4.50889119714437e-09, 7.113549925453585e-09, 2.5095054439080623e-09, 0.20797727581170236, 0.38963924317316384, 0.747600802265178, 3.198783008922898e-09, 0.9999999913582163, 2.262244439971335e-09, 0.6706142199605555, 0.9999999946962393, 0.9999999950170612, 3.532986503415548e-09, 0.2601144562817639, 0.9999999917610723, 0.9999999908059022, 0.9999999980315858, 3.7681183118161236e-09, 0.99999995393551, 3.5584409639105692e-09, 0.9999999923113059, 0.9999999844458033, 0.9999999958435213, 1.077043451733728e-08, 3.0452908084442553e-09, 0.999999997654885, 0.9999999932648311]\n",
      "Weight: [-2.091686251623164, 2.638089158051243]\n",
      "Bias: 0.9209799653364616\n",
      "SV: [[-0.47106191  0.52958262]\n",
      " [ 0.80419528  0.15763851]\n",
      " [-0.99860636 -0.9447521 ]\n",
      " [-0.07948023 -0.89678044]\n",
      " [ 0.85905445  0.01675199]\n",
      " [-0.01257248  0.6889142 ]\n",
      " [-0.85502595  0.02202126]\n",
      " [-0.84718802 -0.7031919 ]\n",
      " [-0.01216598  0.11445504]\n",
      " [ 0.29926621  0.84345733]\n",
      " [ 0.11807601  0.12956067]\n",
      " [ 0.93496372  0.75082854]\n",
      " [-0.36615932  0.03332674]\n",
      " [-0.97209225 -0.56821059]\n",
      " [ 0.98176971  0.72642687]\n",
      " [ 0.31246804  0.15428661]\n",
      " [-0.26296966 -0.12800549]\n",
      " [-0.47333245 -0.75994762]\n",
      " [-0.27158594  0.54125686]]\n"
     ]
    }
   ],
   "source": [
    "svc = SVC(C=1, kernel='gaussian')\n",
    "svc.fit(features=X, labels=Y)\n",
    "\n",
    "# report\n",
    "print()\n",
    "print(f'Alpha: {svc.opt_coef.tolist()}')\n",
    "print(f'Weight: {svc.weight.tolist()}')\n",
    "print(f'Bias: {svc.bias}')\n",
    "print(f'SV: {svc.support_vectors}')"
   ]
  },
  {
   "cell_type": "code",
   "execution_count": 10,
   "metadata": {
    "colab": {
     "base_uri": "https://localhost:8080/",
     "height": 704
    },
    "executionInfo": {
     "elapsed": 625,
     "status": "ok",
     "timestamp": 1635356172655,
     "user": {
      "displayName": "李俞鋒",
      "photoUrl": "https://lh3.googleusercontent.com/a/default-user=s64",
      "userId": "09212386763051698812"
     },
     "user_tz": -480
    },
    "id": "nOv9xbxlTAE-",
    "outputId": "9d16da54-d66e-4e17-aa5c-9fa42d7fd063"
   },
   "outputs": [
    {
     "data": {
      "image/png": "[encoded data removed]",
      "text/plain": [
       "<Figure size 1152x864 with 1 Axes>"
      ]
     },
     "metadata": {
      "needs_background": "light"
     },
     "output_type": "display_data"
    }
   ],
   "source": [
    "resolution = 50\n",
    "dx = np.linspace(-1, 1, resolution) \n",
    "dy = np.linspace(-1, 1, resolution)\n",
    "dx, dy = np.meshgrid(dx, dy)\n",
    "grid_x = np.c_[dx.flatten(), dy.flatten()]\n",
    "z=np.array([svc.hypothesis(x) for x in grid_x])\n",
    "z=z.reshape(dx.shape)\n",
    "plt.figure(figsize=(16,12))\n",
    "## fill the area between level curves h(x)=-10000,-1,0,1,10000 with the given color\n",
    "plt.contourf(dx, dy, z, [-10000,-1,0,1,10000],colors=['skyblue','#009dc4','sandybrown','bisque'])\n",
    "plt.scatter(X[(~svc.sv_indices) & (Y>=0), 0], X[(~svc.sv_indices) & (Y>=0), 1],s=150,color='r')\n",
    "plt.scatter(X[(~svc.sv_indices) & (Y<0), 0], X[(~svc.sv_indices) & (Y<0), 1],s=150,color='b')\n",
    "plt.scatter(X[svc.sv_indices, 0],X[svc.sv_indices, 1],s=150,color='g')\n",
    "plt.show()"
   ]
  },
  {
   "cell_type": "code",
   "execution_count": 13,
   "metadata": {
    "colab": {
     "base_uri": "https://localhost:8080/"
    },
    "executionInfo": {
     "elapsed": 382,
     "status": "ok",
     "timestamp": 1635356204940,
     "user": {
      "displayName": "李俞鋒",
      "photoUrl": "https://lh3.googleusercontent.com/a/default-user=s64",
      "userId": "09212386763051698812"
     },
     "user_tz": -480
    },
    "id": "4_zSSVwuaFU1",
    "outputId": "d746ffec-2d96-4a02-cf46-d91595b59998"
   },
   "outputs": [
    {
     "name": "stdout",
     "output_type": "stream",
     "text": [
      "     pcost       dcost       gap    pres   dres\n",
      " 0:  1.3782e+04 -7.5623e+04  9e+04  1e-14  3e-14\n",
      " 1:  3.6992e+03 -6.0639e+03  1e+04  1e-14  2e-14\n",
      " 2:  5.1377e+02 -8.6256e+02  1e+03  4e-15  1e-14\n",
      " 3:  4.8982e+01 -1.3421e+02  2e+02  7e-15  5e-15\n",
      " 4: -9.8717e+00 -3.2369e+01  2e+01  9e-16  2e-15\n",
      " 5: -2.1728e+01 -2.6856e+01  5e+00  2e-16  1e-15\n",
      " 6: -2.3937e+01 -2.4159e+01  2e-01  4e-15  2e-15\n",
      " 7: -2.4072e+01 -2.4080e+01  8e-03  2e-15  2e-15\n",
      " 8: -2.4078e+01 -2.4078e+01  1e-04  2e-16  2e-15\n",
      " 9: -2.4078e+01 -2.4078e+01  1e-06  2e-15  2e-15\n",
      "Optimal solution found.\n",
      "\n",
      "Alpha: [1.545138454515666e-08, 1.5846477078823569e-09, 0.8067414530095828, 2.7902699474260527e-09, 1.880446572163575e-08, 1.3793660094860501e-09, 9.870707913981511e-10, 2.8846655091400934e-09, 1.329042446173313e-07, 1.8333241233560064e-09, 8.5862670526294e-09, 1.150738688112031e-09, 1.1965236311969483, 12.289071069969912, 1.720374904551794e-08, 8.868971217265768e-09, 9.965792865021392e-09, 1.6923066968347137e-08, 1.9810704102284588e-06, 14.910397215125224, 1.5993540563809013e-09, 4.750145913331253e-09, 1.8143810475441889e-09, 7.686800878270872e-06, 2.4839419861910865e-08, 4.292731585199659e-09, 2.229456319165185e-09, 1.88677239348307e-09, 8.361103249915635, 10.592637742742136]\n",
      "Weight: [-5.54263930273459, 2.8480236500291456]\n",
      "Bias: 1.706197692305409\n",
      "SV: [[ 0.80419528  0.15763851]\n",
      " [-0.85502595  0.02202126]\n",
      " [-0.84718802 -0.7031919 ]\n",
      " [-0.36615932  0.03332674]\n",
      " [-0.47333245 -0.75994762]\n",
      " [-0.27158594  0.54125686]]\n"
     ]
    }
   ],
   "source": [
    "svc = SVC(C=100, kernel='gaussian')\n",
    "svc.fit(features=X, labels=Y)\n",
    "\n",
    "# report\n",
    "print()\n",
    "print(f'Alpha: {svc.opt_coef.tolist()}')\n",
    "print(f'Weight: {svc.weight.tolist()}')\n",
    "print(f'Bias: {svc.bias}')\n",
    "print(f'SV: {svc.support_vectors}')"
   ]
  },
  {
   "cell_type": "code",
   "execution_count": 14,
   "metadata": {
    "colab": {
     "base_uri": "https://localhost:8080/",
     "height": 704
    },
    "executionInfo": {
     "elapsed": 697,
     "status": "ok",
     "timestamp": 1635356206736,
     "user": {
      "displayName": "李俞鋒",
      "photoUrl": "https://lh3.googleusercontent.com/a/default-user=s64",
      "userId": "09212386763051698812"
     },
     "user_tz": -480
    },
    "id": "2Irf7kvfaFU2",
    "outputId": "381ea919-83c1-43b5-a49b-dde5f097d002"
   },
   "outputs": [
    {
     "data": {
      "image/png": "[encoded data removed]",
      "text/plain": [
       "<Figure size 1152x864 with 1 Axes>"
      ]
     },
     "metadata": {
      "needs_background": "light"
     },
     "output_type": "display_data"
    }
   ],
   "source": [
    "resolution = 50\n",
    "dx = np.linspace(-1, 1, resolution)\n",
    "dy = np.linspace(-1, 1, resolution)\n",
    "dx, dy = np.meshgrid(dx, dy)\n",
    "grid_x = np.c_[dx.flatten(), dy.flatten()]\n",
    "z=np.array([svc.hypothesis(x) for x in grid_x])\n",
    "z=z.reshape(dx.shape)\n",
    "plt.figure(figsize=(16,12))\n",
    "## fill the area between level curves h(x)=-10000,-1,0,1,10000 with the given color\n",
    "plt.contourf(dx, dy, z, [-10000,-1,0,1,10000],colors=['skyblue','#009dc4','sandybrown','bisque'])\n",
    "plt.scatter(X[(~svc.sv_indices) & (Y>=0), 0], X[(~svc.sv_indices) & (Y>=0), 1],s=150,color='r')\n",
    "plt.scatter(X[(~svc.sv_indices) & (Y<0), 0], X[(~svc.sv_indices) & (Y<0), 1],s=150,color='b')\n",
    "plt.scatter(X[svc.sv_indices, 0],X[svc.sv_indices, 1],s=150,color='g')\n",
    "plt.show()"
   ]
  }
 ],
 "metadata": {
  "colab": {
   "collapsed_sections": [],
   "name": "Part two HW1.ipynb",
   "provenance": []
  },
  "kernelspec": {
   "display_name": "ml",
   "language": "python",
   "name": "ml"
  },
  "language_info": {
   "codemirror_mode": {
    "name": "ipython",
    "version": 3
   },
   "file_extension": ".py",
   "mimetype": "text/x-python",
   "name": "python",
   "nbconvert_exporter": "python",
   "pygments_lexer": "ipython3",
   "version": "3.8.12"
  }
 },
 "nbformat": 4,
 "nbformat_minor": 1
}
